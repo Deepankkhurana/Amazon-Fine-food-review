{
 "cells": [
  {
   "cell_type": "code",
   "execution_count": 3,
   "metadata": {},
   "outputs": [],
   "source": [
    "%matplotlib inline\n",
    "import warnings\n",
    "warnings.filterwarnings(\"ignore\")\n",
    "\n",
    "import pandas as pd\n",
    "import numpy as np\n",
    "import matplotlib.pyplot as plt\n",
    "\n",
    "import nltk\n",
    "from nltk.corpus import stopwords\n",
    "from nltk.stem import PorterStemmer\n",
    "from sklearn.decomposition import TruncatedSVD\n",
    "\n",
    "from sklearn.feature_extraction.text import CountVectorizer\n",
    "from sklearn.feature_extraction.text import TfidfVectorizer\n",
    "from gensim.models import Word2Vec\n",
    "\n",
    "\n",
    "from sklearn.neighbors import KNeighborsClassifier\n",
    "from sklearn.metrics import accuracy_score"
   ]
  },
  {
   "cell_type": "code",
   "execution_count": 4,
   "metadata": {},
   "outputs": [],
   "source": [
    "df = pd.read_csv('Reviews.csv')\n",
    "data = df"
   ]
  },
  {
   "cell_type": "code",
   "execution_count": 5,
   "metadata": {},
   "outputs": [],
   "source": [
    "#Removing neutral reviews\n",
    "data_s = data[data['Score']!=3]"
   ]
  },
  {
   "cell_type": "code",
   "execution_count": 6,
   "metadata": {},
   "outputs": [],
   "source": [
    "def partition(x):\n",
    "    if x<3:\n",
    "        return 0\n",
    "    return 1\n",
    "\n",
    "score_upd = data_s['Score']\n",
    "temp = score_upd.map(partition)\n",
    "data_s['Score'] = temp"
   ]
  },
  {
   "cell_type": "code",
   "execution_count": 7,
   "metadata": {},
   "outputs": [],
   "source": [
    "final_data = data_s.drop_duplicates(subset=('UserId','ProfileName','Time','Text'))"
   ]
  },
  {
   "cell_type": "code",
   "execution_count": 8,
   "metadata": {},
   "outputs": [],
   "source": [
    "final = final_data[final_data['HelpfulnessNumerator']<=final_data['HelpfulnessDenominator']]"
   ]
  },
  {
   "cell_type": "code",
   "execution_count": 9,
   "metadata": {},
   "outputs": [
    {
     "data": {
      "text/plain": [
       "Index(['Id', 'ProductId', 'UserId', 'ProfileName', 'HelpfulnessNumerator',\n",
       "       'HelpfulnessDenominator', 'Score', 'Time', 'Summary', 'Text'],\n",
       "      dtype='object')"
      ]
     },
     "execution_count": 9,
     "metadata": {},
     "output_type": "execute_result"
    }
   ],
   "source": [
    "final.columns"
   ]
  },
  {
   "cell_type": "code",
   "execution_count": 10,
   "metadata": {},
   "outputs": [],
   "source": [
    "final = final.sort_values(['Time'], axis=0)\n",
    "final = final.head(30000)"
   ]
  },
  {
   "cell_type": "code",
   "execution_count": 11,
   "metadata": {},
   "outputs": [],
   "source": [
    "final_X = final['Text']\n",
    "final_y = final['Score']"
   ]
  },
  {
   "cell_type": "code",
   "execution_count": 12,
   "metadata": {},
   "outputs": [
    {
     "data": {
      "text/plain": [
       "1    26762\n",
       "0     3238\n",
       "Name: Score, dtype: int64"
      ]
     },
     "execution_count": 12,
     "metadata": {},
     "output_type": "execute_result"
    }
   ],
   "source": [
    "final_y.value_counts()"
   ]
  },
  {
   "cell_type": "code",
   "execution_count": 13,
   "metadata": {},
   "outputs": [],
   "source": [
    "X_train = final_X[:22000]\n",
    "X_test = final_X[22000:]\n",
    "y_train = final_y[:22000]\n",
    "y_test = final_y[22000:]"
   ]
  },
  {
   "cell_type": "code",
   "execution_count": 14,
   "metadata": {},
   "outputs": [],
   "source": [
    "# Bag of Words\n",
    "\n",
    "count_vect = CountVectorizer(max_features = 5000)\n",
    "bow_X_train = count_vect.fit_transform(X_train)\n",
    "bow_X_test = count_vect.transform(X_test)"
   ]
  },
  {
   "cell_type": "code",
   "execution_count": 17,
   "metadata": {},
   "outputs": [],
   "source": [
    "### Brute force algorithm"
   ]
  },
  {
   "cell_type": "code",
   "execution_count": 15,
   "metadata": {},
   "outputs": [
    {
     "name": "stdout",
     "output_type": "stream",
     "text": [
      "best k =  {'n_neighbors': 13}\n"
     ]
    }
   ],
   "source": [
    "from sklearn.model_selection import GridSearchCV\n",
    "knn = KNeighborsClassifier(algorithm = 'brute')\n",
    "param_grid = { 'n_neighbors':np.arange(5,15,2)}\n",
    "grid = GridSearchCV(estimator = knn, param_grid = param_grid ,cv =3 , n_jobs = 2)\n",
    "grid.fit(bow_X_train, y_train)\n",
    "print(\"best k = \", grid.best_params_)"
   ]
  },
  {
   "cell_type": "code",
   "execution_count": 16,
   "metadata": {},
   "outputs": [
    {
     "data": {
      "image/png": "[encoded data removed]",
      "text/plain": [
       "<Figure size 432x288 with 1 Axes>"
      ]
     },
     "metadata": {
      "needs_background": "light"
     },
     "output_type": "display_data"
    }
   ],
   "source": [
    "\n",
    "neig = [i for i in range(5,15,2)]\n",
    "error = [(1-i)*100 for i in grid.cv_results_['mean_test_score']]\n",
    "plt.plot(neig, error)\n",
    "plt.title('Error plot')\n",
    "plt.xlabel('No. of Neighbors')\n",
    "plt.ylabel('Test_Error')\n",
    "plt.show()"
   ]
  },
  {
   "cell_type": "code",
   "execution_count": 18,
   "metadata": {},
   "outputs": [
    {
     "name": "stdout",
     "output_type": "stream",
     "text": [
      "Accuracy on train data=  89.07727272727273\n"
     ]
    }
   ],
   "source": [
    "print(\"Accuracy on train data= \", grid.best_score_*100)\n",
    "tr_acc1 = grid.best_score_*100\n",
    "a = grid.best_params_\n",
    "optimal_k1 = a.get('n_neighbors')"
   ]
  },
  {
   "cell_type": "code",
   "execution_count": 19,
   "metadata": {},
   "outputs": [
    {
     "name": "stdout",
     "output_type": "stream",
     "text": [
      "\n",
      "The accuracy of the knn classifier for k = 13 is 89.950000%\n"
     ]
    }
   ],
   "source": [
    "knn_optimal = KNeighborsClassifier(n_neighbors=optimal_k1 , algorithm = 'brute')\n",
    "\n",
    "# fitting the model\n",
    "knn_optimal.fit(bow_X_train, y_train)\n",
    "\n",
    "# predict the response\n",
    "pred = knn_optimal.predict(bow_X_test)\n",
    "\n",
    "# evaluate accuracy\n",
    "acc1 = accuracy_score(y_test, pred) * 100\n",
    "print('\\nThe accuracy of the knn classifier for k = %d is %f%%' % (optimal_k1, acc1))"
   ]
  },
  {
   "cell_type": "code",
   "execution_count": 20,
   "metadata": {},
   "outputs": [
    {
     "data": {
      "image/png": "[encoded data removed]",
      "text/plain": [
       "<Figure size 432x288 with 2 Axes>"
      ]
     },
     "metadata": {
      "needs_background": "light"
     },
     "output_type": "display_data"
    }
   ],
   "source": [
    "from sklearn.metrics import confusion_matrix\n",
    "import seaborn as sns\n",
    "cm = confusion_matrix(y_test,pred)\n",
    "sns.heatmap(cm, annot=True,fmt='d')\n",
    "plt.title('Confusion Matrix for BoW')\n",
    "plt.show()\n"
   ]
  },
  {
   "cell_type": "markdown",
   "metadata": {},
   "source": [
    "#### kd_tree algorithm"
   ]
  },
  {
   "cell_type": "code",
   "execution_count": 21,
   "metadata": {},
   "outputs": [],
   "source": [
    "tsvd = TruncatedSVD(n_components=1000)\n",
    "trnc_bow_train = tsvd.fit_transform(bow_X_train)\n",
    "trnc_bow_test = tsvd.transform(bow_X_test)"
   ]
  },
  {
   "cell_type": "code",
   "execution_count": 22,
   "metadata": {},
   "outputs": [
    {
     "name": "stdout",
     "output_type": "stream",
     "text": [
      "best k =  {'n_neighbors': 11}\n",
      "Accuracy on train data =  89.05454545454545\n"
     ]
    }
   ],
   "source": [
    "from sklearn.model_selection import GridSearchCV\n",
    "knn = KNeighborsClassifier(algorithm = 'kd_tree')\n",
    "param_grid = { 'n_neighbors':np.arange(5,15,2)}\n",
    "grid = GridSearchCV(estimator = knn, param_grid = param_grid ,cv = 3,  n_jobs = 2)\n",
    "grid.fit(trnc_bow_train, y_train)\n",
    "print(\"best k = \", grid.best_params_)\n",
    "print(\"Accuracy on train data = \", grid.best_score_*100)\n",
    "tr_acc2 = grid.best_score_*100\n",
    "a = grid.best_params_\n",
    "optimal_k2 = a.get('n_neighbors')"
   ]
  },
  {
   "cell_type": "code",
   "execution_count": 24,
   "metadata": {},
   "outputs": [
    {
     "data": {
      "image/png": "[encoded data removed]",
      "text/plain": [
       "<Figure size 432x288 with 1 Axes>"
      ]
     },
     "metadata": {
      "needs_background": "light"
     },
     "output_type": "display_data"
    }
   ],
   "source": [
    "neig = [i for i in range(5,15,2)]\n",
    "error = [(1-i)*100 for i in grid.cv_results_['mean_test_score']]\n",
    "plt.plot(neig, error)\n",
    "plt.title('Error plot') \n",
    "plt.xlabel('No. of Neighbors')\n",
    "plt.ylabel('Test_Error')\n",
    "plt.show()"
   ]
  },
  {
   "cell_type": "code",
   "execution_count": 25,
   "metadata": {},
   "outputs": [
    {
     "name": "stdout",
     "output_type": "stream",
     "text": [
      "\n",
      "The accuracy of the knn classifier for k = 11 is 89.950000%\n"
     ]
    }
   ],
   "source": [
    "knn_optimal = KNeighborsClassifier(n_neighbors=optimal_k2 , algorithm = 'kd_tree',)\n",
    "\n",
    "# fitting the model\n",
    "knn_optimal.fit(trnc_bow_train,y_train)\n",
    "\n",
    "# predict the response\n",
    "pred = knn_optimal.predict(trnc_bow_test)\n",
    "\n",
    "# evaluate accuracy\n",
    "acc2 = accuracy_score(y_test, pred) * 100\n",
    "print('\\nThe accuracy of the knn classifier for k = %d is %f%%' % (optimal_k2, acc2))"
   ]
  },
  {
   "cell_type": "code",
   "execution_count": 26,
   "metadata": {},
   "outputs": [
    {
     "data": {
      "image/png": "[encoded data removed]",
      "text/plain": [
       "<Figure size 432x288 with 2 Axes>"
      ]
     },
     "metadata": {
      "needs_background": "light"
     },
     "output_type": "display_data"
    }
   ],
   "source": [
    "from sklearn.metrics import confusion_matrix\n",
    "import seaborn as sns\n",
    "cm = confusion_matrix(y_test,pred)\n",
    "sns.heatmap(cm, annot=True,fmt='d')\n",
    "plt.title('Confusion Matrix for BoW kd-tree')\n",
    "plt.show()"
   ]
  },
  {
   "cell_type": "code",
   "execution_count": 28,
   "metadata": {},
   "outputs": [],
   "source": [
    "#### KNN on TF-IDF"
   ]
  },
  {
   "cell_type": "code",
   "execution_count": 27,
   "metadata": {},
   "outputs": [],
   "source": [
    "#using TF-IDF for text to numerical conversion\n",
    "\n",
    "tf_idf = TfidfVectorizer(max_features=5000)\n",
    "tf_X_train = tf_idf.fit_transform(X_train)\n",
    "tf_X_test = tf_idf.transform(X_test)"
   ]
  },
  {
   "cell_type": "markdown",
   "metadata": {},
   "source": [
    "#### Brute force method"
   ]
  },
  {
   "cell_type": "code",
   "execution_count": 29,
   "metadata": {},
   "outputs": [
    {
     "name": "stdout",
     "output_type": "stream",
     "text": [
      "best k =  {'n_neighbors': 7}\n",
      "Accuracy on train data =  89.78636363636363\n"
     ]
    }
   ],
   "source": [
    "from sklearn.model_selection import GridSearchCV\n",
    "knn = KNeighborsClassifier(algorithm = 'brute')\n",
    "param_grid = { 'n_neighbors':np.arange(5,15,2)}\n",
    "grid = GridSearchCV(estimator = knn, param_grid = param_grid ,cv = 3)\n",
    "grid.fit(tf_X_train, y_train)\n",
    "print(\"best k = \", grid.best_params_)\n",
    "print(\"Accuracy on train data = \", grid.best_score_*100)\n",
    "tr_acc3 = grid.best_score_*100\n",
    "a = grid.best_params_\n",
    "optimal_k3 = a.get('n_neighbors')"
   ]
  },
  {
   "cell_type": "code",
   "execution_count": 30,
   "metadata": {},
   "outputs": [
    {
     "data": {
      "image/png": "[encoded data removed]",
      "text/plain": [
       "<Figure size 432x288 with 1 Axes>"
      ]
     },
     "metadata": {
      "needs_background": "light"
     },
     "output_type": "display_data"
    }
   ],
   "source": [
    "neig = [i for i in range(5,15,2)]\n",
    "error = [(1-i)*100 for i in grid.cv_results_['mean_test_score']]\n",
    "plt.plot(neig, error)\n",
    "plt.title('Error plot')\n",
    "plt.xlabel('No. of Neighbors')\n",
    "plt.ylabel('Test_Error')\n",
    "plt.show()"
   ]
  },
  {
   "cell_type": "code",
   "execution_count": 31,
   "metadata": {},
   "outputs": [
    {
     "name": "stdout",
     "output_type": "stream",
     "text": [
      "\n",
      "The accuracy of the knn classifier for k = 7 is 90.437500%\n"
     ]
    }
   ],
   "source": [
    "knn_optimal = KNeighborsClassifier(n_neighbors=optimal_k3 , algorithm = 'brute')\n",
    "\n",
    "# fitting the model\n",
    "knn_optimal.fit(tf_X_train, y_train)\n",
    "\n",
    "# predict the response\n",
    "pred = knn_optimal.predict(tf_X_test)\n",
    "\n",
    "# evaluate accuracy\n",
    "acc3 = accuracy_score(y_test, pred) * 100\n",
    "print('\\nThe accuracy of the knn classifier for k = %d is %f%%' % (optimal_k3, acc3))"
   ]
  },
  {
   "cell_type": "code",
   "execution_count": 32,
   "metadata": {},
   "outputs": [
    {
     "data": {
      "image/png": "[encoded data removed]",
      "text/plain": [
       "<Figure size 432x288 with 2 Axes>"
      ]
     },
     "metadata": {
      "needs_background": "light"
     },
     "output_type": "display_data"
    }
   ],
   "source": [
    "cm = confusion_matrix(y_test,pred)\n",
    "sns.heatmap(cm, annot=True,fmt='d')\n",
    "plt.title('Confusion Matrix for TF-IDF BruteForce')\n",
    "plt.show()"
   ]
  },
  {
   "cell_type": "markdown",
   "metadata": {},
   "source": [
    "##### kd_tree algorithm"
   ]
  },
  {
   "cell_type": "code",
   "execution_count": 33,
   "metadata": {},
   "outputs": [],
   "source": [
    "tsvd = TruncatedSVD(n_components=1000)\n",
    "trnc_tf_train = tsvd.fit_transform(tf_X_train)\n",
    "trnc_tf_test = tsvd.transform(tf_X_test)"
   ]
  },
  {
   "cell_type": "code",
   "execution_count": 34,
   "metadata": {},
   "outputs": [
    {
     "name": "stdout",
     "output_type": "stream",
     "text": [
      "best k =  {'n_neighbors': 13}\n",
      "Accuracy on train data =  89.1590909090909\n"
     ]
    }
   ],
   "source": [
    "from sklearn.model_selection import GridSearchCV\n",
    "knn = KNeighborsClassifier(algorithm = 'kd_tree')\n",
    "param_grid = { 'n_neighbors':np.arange(5,15,2)}\n",
    "grid = GridSearchCV(estimator = knn, param_grid = param_grid ,cv = 3,  n_jobs = 2)\n",
    "grid.fit(trnc_tf_train, y_train)\n",
    "print(\"best k = \", grid.best_params_)\n",
    "print(\"Accuracy on train data = \", grid.best_score_*100)\n",
    "tr_acc4 = grid.best_score_*100\n",
    "a = grid.best_params_\n",
    "optimal_k4 = a.get('neighbors')"
   ]
  },
  {
   "cell_type": "code",
   "execution_count": 35,
   "metadata": {},
   "outputs": [
    {
     "data": {
      "image/png": "[encoded data removed]",
      "text/plain": [
       "<Figure size 432x288 with 1 Axes>"
      ]
     },
     "metadata": {
      "needs_background": "light"
     },
     "output_type": "display_data"
    }
   ],
   "source": [
    "neig = [i for i in range(5,15,2)]\n",
    "error = [(1-i)*100 for i in grid.cv_results_['mean_test_score']]\n",
    "plt.plot(neig, error)\n",
    "plt.title('Error plot')\n",
    "plt.xlabel('No. of Neighbors')\n",
    "plt.ylabel('Test_Error')\n",
    "plt.show()"
   ]
  },
  {
   "cell_type": "code",
   "execution_count": 36,
   "metadata": {},
   "outputs": [],
   "source": [
    "optimal_k4 = a.get('n_neighbors')"
   ]
  },
  {
   "cell_type": "code",
   "execution_count": 37,
   "metadata": {},
   "outputs": [
    {
     "data": {
      "text/plain": [
       "13"
      ]
     },
     "execution_count": 37,
     "metadata": {},
     "output_type": "execute_result"
    }
   ],
   "source": [
    "\n",
    "optimal_k4"
   ]
  },
  {
   "cell_type": "code",
   "execution_count": 38,
   "metadata": {},
   "outputs": [
    {
     "name": "stdout",
     "output_type": "stream",
     "text": [
      "\n",
      "The accuracy of the knn classifier for k = 13 is 89.750000%\n"
     ]
    }
   ],
   "source": [
    "knn_optimal = KNeighborsClassifier(n_neighbors=optimal_k4 , algorithm = 'kd_tree')\n",
    "\n",
    "# fitting the model\n",
    "knn_optimal.fit(trnc_tf_train, y_train)\n",
    "\n",
    "# predict the response\n",
    "pred = knn_optimal.predict(trnc_tf_test)\n",
    "\n",
    "# evaluate accuracy\n",
    "acc4 = accuracy_score(y_test, pred) * 100\n",
    "print('\\nThe accuracy of the knn classifier for k = %d is %f%%' % (optimal_k4, acc4))"
   ]
  },
  {
   "cell_type": "code",
   "execution_count": 39,
   "metadata": {},
   "outputs": [
    {
     "data": {
      "image/png": "[encoded data removed]",
      "text/plain": [
       "<Figure size 432x288 with 2 Axes>"
      ]
     },
     "metadata": {
      "needs_background": "light"
     },
     "output_type": "display_data"
    }
   ],
   "source": [
    "\n",
    "cm = confusion_matrix(y_test,pred)\n",
    "sns.heatmap(cm, annot=True,fmt='d')\n",
    "plt.title('Confusion Matrix for TF-IDF kd-tree')\n",
    "plt.show()"
   ]
  },
  {
   "cell_type": "code",
   "execution_count": 40,
   "metadata": {},
   "outputs": [],
   "source": [
    "del bow_X_train\n",
    "del bow_X_test\n",
    "del trnc_bow_train\n",
    "del trnc_bow_test\n",
    "del tf_X_train\n",
    "del tf_X_test\n",
    "del trnc_tf_train\n",
    "del trnc_tf_test"
   ]
  },
  {
   "cell_type": "code",
   "execution_count": 41,
   "metadata": {},
   "outputs": [],
   "source": [
    "##### KNN on Avg Word2vec"
   ]
  },
  {
   "cell_type": "code",
   "execution_count": 42,
   "metadata": {},
   "outputs": [],
   "source": [
    "w2v_data = X_train\n",
    "\n",
    "splitted = []\n",
    "for row in w2v_data: \n",
    "    splitted.append([word for word in row.split()])     #splitting words\n",
    "    \n",
    "train_w2v = Word2Vec(splitted,min_count=5,size=150, workers=4)\n",
    "\n",
    "avg_X_train = []\n",
    "for row in splitted:\n",
    "    vec = np.zeros(150)\n",
    "    count = 0\n",
    "    for word in row:\n",
    "        try:\n",
    "            vec += train_w2v[word]\n",
    "            count += 1\n",
    "        except:\n",
    "            pass\n",
    "    avg_X_train.append(vec/count)\n",
    "    \n",
    "#================================================================\n",
    "w2v_data = X_test\n",
    "\n",
    "splitted = []\n",
    "for row in w2v_data: \n",
    "    splitted.append([word for word in row.split()])     #splitting words\n",
    "    \n",
    "train_w2v = Word2Vec(splitted,min_count=5,size=150, workers=4)\n",
    "\n",
    "avg_X_test = []\n",
    "for row in splitted:\n",
    "    vec = np.zeros(150)\n",
    "    count = 0\n",
    "    for word in row:\n",
    "        try:\n",
    "            vec += train_w2v[word]\n",
    "            count += 1\n",
    "        except:\n",
    "            pass\n",
    "    avg_X_test.append(vec/count)"
   ]
  },
  {
   "cell_type": "code",
   "execution_count": 43,
   "metadata": {},
   "outputs": [],
   "source": [
    "#### Brute force method"
   ]
  },
  {
   "cell_type": "code",
   "execution_count": 44,
   "metadata": {},
   "outputs": [
    {
     "name": "stdout",
     "output_type": "stream",
     "text": [
      "best k =  {'n_neighbors': 13}\n",
      "Accuracy on train data =  88.99545454545455\n"
     ]
    }
   ],
   "source": [
    "from sklearn.model_selection import GridSearchCV\n",
    "knn = KNeighborsClassifier(algorithm = 'brute')\n",
    "param_grid = { 'n_neighbors':np.arange(5,15,2)}\n",
    "grid = GridSearchCV(estimator = knn, param_grid = param_grid ,cv = 3,  n_jobs = 2)\n",
    "grid.fit(avg_X_train, y_train)\n",
    "\n",
    "print(\"best k = \", grid.best_params_)\n",
    "print(\"Accuracy on train data = \", grid.best_score_*100)\n",
    "tr_acc5 = grid.best_score_*100\n",
    "a = grid.best_params_\n",
    "optimal_k5 = a.get('n_neighbors')"
   ]
  },
  {
   "cell_type": "code",
   "execution_count": 45,
   "metadata": {},
   "outputs": [
    {
     "data": {
      "image/png": "[encoded data removed]",
      "text/plain": [
       "<Figure size 432x288 with 1 Axes>"
      ]
     },
     "metadata": {
      "needs_background": "light"
     },
     "output_type": "display_data"
    }
   ],
   "source": [
    "neig = [i for i in range(5,15,2)]\n",
    "error = [(1-i)*100 for i in grid.cv_results_['mean_test_score']]\n",
    "plt.plot(neig, error)\n",
    "plt.title('Error plot')\n",
    "plt.xlabel('No. of Neighbors')\n",
    "plt.ylabel('Test_Error')\n",
    "plt.show()"
   ]
  },
  {
   "cell_type": "code",
   "execution_count": 46,
   "metadata": {},
   "outputs": [
    {
     "name": "stdout",
     "output_type": "stream",
     "text": [
      "\n",
      "The accuracy of the knn classifier for k = 13 is 89.787500%\n"
     ]
    }
   ],
   "source": [
    "knn_optimal = KNeighborsClassifier(n_neighbors=optimal_k5 , algorithm = 'brute', n_jobs = 2)\n",
    "\n",
    "# fitting the model\n",
    "knn_optimal.fit(avg_X_train, y_train)\n",
    "\n",
    "# predict the response\n",
    "pred = knn_optimal.predict(avg_X_test)\n",
    "\n",
    "# evaluate accuracy\n",
    "acc5 = accuracy_score(y_test, pred) * 100\n",
    "print('\\nThe accuracy of the knn classifier for k = %d is %f%%' % (optimal_k5, acc5))"
   ]
  },
  {
   "cell_type": "code",
   "execution_count": 47,
   "metadata": {},
   "outputs": [
    {
     "data": {
      "image/png": "[encoded data removed]",
      "text/plain": [
       "<Figure size 432x288 with 2 Axes>"
      ]
     },
     "metadata": {
      "needs_background": "light"
     },
     "output_type": "display_data"
    }
   ],
   "source": [
    "cm = confusion_matrix(y_test,pred)\n",
    "sns.heatmap(cm, annot=True,fmt='d')\n",
    "plt.title('Confusion Matrix for AG W2V Bruteforce')\n",
    "plt.show()"
   ]
  },
  {
   "cell_type": "markdown",
   "metadata": {},
   "source": [
    "##### kd_tree algorithm"
   ]
  },
  {
   "cell_type": "code",
   "execution_count": 48,
   "metadata": {},
   "outputs": [
    {
     "name": "stdout",
     "output_type": "stream",
     "text": [
      "best k =  {'n_neighbors': 13}\n",
      "Accuracy on train data =  88.99545454545455\n"
     ]
    }
   ],
   "source": [
    "from sklearn.model_selection import GridSearchCV\n",
    "knn = KNeighborsClassifier(algorithm = 'kd_tree')\n",
    "param_grid = { 'n_neighbors':np.arange(5,15,2)}\n",
    "grid = GridSearchCV(estimator = knn, param_grid = param_grid ,cv = 3,  n_jobs = 2)\n",
    "grid.fit(avg_X_train, y_train)\n",
    "print(\"best k = \", grid.best_params_)\n",
    "print(\"Accuracy on train data = \", grid.best_score_*100)\n",
    "tr_acc6 = grid.best_score_*100\n",
    "a = grid.best_params_\n",
    "optimal_k6 = a.get('neighbors')"
   ]
  },
  {
   "cell_type": "code",
   "execution_count": 49,
   "metadata": {},
   "outputs": [
    {
     "data": {
      "image/png": "[encoded data removed]",
      "text/plain": [
       "<Figure size 432x288 with 1 Axes>"
      ]
     },
     "metadata": {
      "needs_background": "light"
     },
     "output_type": "display_data"
    }
   ],
   "source": [
    "neig = [i for i in range(5,15,2)]\n",
    "error = [(1-i)*100 for i in grid.cv_results_['mean_test_score']]\n",
    "plt.plot(neig, error)\n",
    "plt.title('Error plot')\n",
    "plt.xlabel('No. of Neighbors')\n",
    "plt.ylabel('Test_Error')\n",
    "plt.show()"
   ]
  },
  {
   "cell_type": "code",
   "execution_count": 50,
   "metadata": {},
   "outputs": [],
   "source": [
    "optimal_k6 = a.get('n_neighbors')"
   ]
  },
  {
   "cell_type": "code",
   "execution_count": 51,
   "metadata": {},
   "outputs": [
    {
     "name": "stdout",
     "output_type": "stream",
     "text": [
      "\n",
      "The accuracy of the knn classifier for k = 13 is 89.787500%\n"
     ]
    }
   ],
   "source": [
    "knn_optimal = KNeighborsClassifier(n_neighbors=optimal_k6 , algorithm = 'kd_tree', n_jobs = 2)\n",
    "\n",
    "# fitting the model\n",
    "knn_optimal.fit(avg_X_train, y_train)\n",
    "\n",
    "# predict the response\n",
    "pred = knn_optimal.predict(avg_X_test)\n",
    "\n",
    "# evaluate accuracy\n",
    "acc6 = accuracy_score(y_test, pred) * 100\n",
    "print('\\nThe accuracy of the knn classifier for k = %d is %f%%' % (optimal_k6, acc6))"
   ]
  },
  {
   "cell_type": "code",
   "execution_count": 52,
   "metadata": {},
   "outputs": [
    {
     "data": {
      "image/png": "[encoded data removed]",
      "text/plain": [
       "<Figure size 432x288 with 2 Axes>"
      ]
     },
     "metadata": {
      "needs_background": "light"
     },
     "output_type": "display_data"
    }
   ],
   "source": [
    "cm = confusion_matrix(y_test,pred)\n",
    "sns.heatmap(cm, annot=True,fmt='d')\n",
    "plt.title('Confusion Matrix for AVG W2V kd-tree')\n",
    "plt.show()"
   ]
  },
  {
   "cell_type": "code",
   "execution_count": 53,
   "metadata": {},
   "outputs": [],
   "source": [
    "\n",
    "del avg_X_train\n",
    "del avg_X_test"
   ]
  },
  {
   "cell_type": "markdown",
   "metadata": {},
   "source": [
    "#### KNN on TF-IDF AVG WORD2VEC"
   ]
  },
  {
   "cell_type": "code",
   "execution_count": 55,
   "metadata": {},
   "outputs": [],
   "source": [
    "tf_w_data = X_train\n",
    "tf_idf = TfidfVectorizer(max_features=5000)\n",
    "tf_idf_data = tf_idf.fit_transform(tf_w_data)\n",
    "tf_train_data = []\n",
    "tf_idf_data = tf_idf_data.toarray()\n",
    "i = 0\n",
    "splitted = []\n",
    "for row in tf_w_data: \n",
    "    splitted.append([word for word in row.split()])\n",
    "for row in splitted:\n",
    "    vec = [0 for i in range(150)]\n",
    "    \n",
    "    temp_tfidf = []\n",
    "    for val in tf_idf_data[i]:\n",
    "        if val != 0:\n",
    "            temp_tfidf.append(val)\n",
    "    \n",
    "    count = 0\n",
    "    tf_idf_sum = 0\n",
    "    for word in row:\n",
    "        try:\n",
    "            count += 1\n",
    "            tf_idf_sum = tf_idf_sum + temp_tfidf[count-1]\n",
    "            vec += (temp_tfidf[count-1] * train_w2v[word])\n",
    "        except:\n",
    "            pass\n",
    "    #print(vec)\n",
    "    try:\n",
    "        vec = (float)(1/tf_idf_sum) * vec\n",
    "    except:\n",
    "        pass\n",
    "    tf_train_data.append(vec)\n",
    "    i = i + 1\n",
    "    \n",
    "    \n",
    "    \n",
    "#====================================================================================\n",
    "\n",
    "tf_w_data = X_test\n",
    "tf_idf_data = tf_idf.transform(tf_w_data)\n",
    "tf_test_data = []\n",
    "tf_idf_data = tf_idf_data.toarray()\n",
    "i = 0\n",
    "splitted = []\n",
    "for row in tf_w_data: \n",
    "    splitted.append([word for word in row.split()])\n",
    "for row in splitted:\n",
    "    vec = [0 for i in range(150)]\n",
    "    \n",
    "    temp_tfidf = []\n",
    "    for val in tf_idf_data[i]:\n",
    "        if val != 0:\n",
    "            temp_tfidf.append(val)\n",
    "    \n",
    "    count = 0\n",
    "    tf_idf_sum = 0\n",
    "    for word in row:\n",
    "        try:\n",
    "            count += 1\n",
    "            tf_idf_sum = tf_idf_sum + temp_tfidf[count-1]\n",
    "            vec += (temp_tfidf[count-1] * train_w2v[word])\n",
    "        except:\n",
    "            pass\n",
    "    try:\n",
    "        vec = (float)(1/tf_idf_sum) * vec\n",
    "    except:\n",
    "        pass\n",
    "    tf_test_data.append(vec)\n",
    "    i = i + 1"
   ]
  },
  {
   "cell_type": "markdown",
   "metadata": {},
   "source": [
    "#### Brute force algorithm"
   ]
  },
  {
   "cell_type": "code",
   "execution_count": 56,
   "metadata": {},
   "outputs": [
    {
     "name": "stdout",
     "output_type": "stream",
     "text": [
      "best k =  {'n_neighbors': 13}\n",
      "Accuracy on train data =  88.9\n"
     ]
    }
   ],
   "source": [
    "\n",
    "from sklearn.model_selection import GridSearchCV\n",
    "knn = KNeighborsClassifier(algorithm = 'brute')\n",
    "param_grid = { 'n_neighbors':np.arange(5,15,2)}\n",
    "grid = GridSearchCV(estimator = knn, param_grid = param_grid ,cv = 3,  n_jobs = 2)\n",
    "grid.fit(tf_train_data, y_train)\n",
    "print(\"best k = \", grid.best_params_)\n",
    "print(\"Accuracy on train data = \", grid.best_score_*100)\n",
    "tr_acc7 = grid.best_score_*100\n",
    "a = grid.best_params_\n",
    "optimal_k7 = a.get('n_neighbors')"
   ]
  },
  {
   "cell_type": "code",
   "execution_count": 57,
   "metadata": {},
   "outputs": [
    {
     "data": {
      "image/png": "[encoded data removed]",
      "text/plain": [
       "<Figure size 432x288 with 1 Axes>"
      ]
     },
     "metadata": {
      "needs_background": "light"
     },
     "output_type": "display_data"
    }
   ],
   "source": [
    "neig = [i for i in range(5,15,2)]\n",
    "error = [(1-i)*100 for i in grid.cv_results_['mean_test_score']]\n",
    "plt.plot(neig, error)\n",
    "plt.title('Error plot')\n",
    "plt.xlabel('No. of Neighbors')\n",
    "plt.ylabel('Test_Error')\n",
    "plt.show()"
   ]
  },
  {
   "cell_type": "code",
   "execution_count": 58,
   "metadata": {},
   "outputs": [
    {
     "name": "stdout",
     "output_type": "stream",
     "text": [
      "\n",
      "The accuracy of the knn classifier for k = 13 is 89.687500%\n"
     ]
    }
   ],
   "source": [
    "knn_optimal = KNeighborsClassifier(n_neighbors=optimal_k7 , algorithm = 'brute', n_jobs = 2)\n",
    "\n",
    "# fitting the model\n",
    "knn_optimal.fit(tf_train_data, y_train)\n",
    "\n",
    "# predict the response\n",
    "pred = knn_optimal.predict(tf_test_data)\n",
    "\n",
    "# evaluate accuracy\n",
    "acc7 = accuracy_score(y_test, pred) * 100\n",
    "print('\\nThe accuracy of the knn classifier for k = %d is %f%%' % (optimal_k7, acc7))"
   ]
  },
  {
   "cell_type": "code",
   "execution_count": 59,
   "metadata": {},
   "outputs": [
    {
     "data": {
      "image/png": "[encoded data removed]",
      "text/plain": [
       "<Figure size 432x288 with 2 Axes>"
      ]
     },
     "metadata": {
      "needs_background": "light"
     },
     "output_type": "display_data"
    }
   ],
   "source": [
    "\n",
    "cm = confusion_matrix(y_test,pred)\n",
    "sns.heatmap(cm, annot=True,fmt='d')\n",
    "plt.title('Confusion Matrix for TF-IDF W2V BruteForce')\n",
    "plt.show()"
   ]
  },
  {
   "cell_type": "markdown",
   "metadata": {},
   "source": [
    "#### kd_tree algorithm"
   ]
  },
  {
   "cell_type": "code",
   "execution_count": 61,
   "metadata": {},
   "outputs": [
    {
     "name": "stdout",
     "output_type": "stream",
     "text": [
      "best k =  {'n_neighbors': 13}\n",
      "Accuracy on train data =  88.9\n"
     ]
    }
   ],
   "source": [
    "from sklearn.model_selection import GridSearchCV\n",
    "knn = KNeighborsClassifier(algorithm = 'kd_tree')\n",
    "param_grid = { 'n_neighbors':np.arange(5,15,2)}\n",
    "grid = GridSearchCV(estimator = knn, param_grid = param_grid ,cv = 3,  n_jobs = 2)\n",
    "grid.fit(tf_train_data, y_train)\n",
    "print(\"best k = \", grid.best_params_)\n",
    "print(\"Accuracy on train data = \", grid.best_score_*100)\n",
    "tr_acc8 = grid.best_score_*100\n",
    "a = grid.best_params_\n",
    "optimal_k8 = a.get('n_neighbors')"
   ]
  },
  {
   "cell_type": "code",
   "execution_count": 62,
   "metadata": {},
   "outputs": [
    {
     "data": {
      "image/png": "[encoded data removed]",
      "text/plain": [
       "<Figure size 432x288 with 1 Axes>"
      ]
     },
     "metadata": {
      "needs_background": "light"
     },
     "output_type": "display_data"
    }
   ],
   "source": [
    "neig = [i for i in range(5,15,2)]\n",
    "error = [(1-i)*100 for i in grid.cv_results_['mean_test_score']]\n",
    "plt.plot(neig, error)\n",
    "plt.title('Error plot')\n",
    "plt.xlabel('No. of Neighbors')\n",
    "plt.ylabel('Test_Error')\n",
    "plt.show()"
   ]
  },
  {
   "cell_type": "code",
   "execution_count": 63,
   "metadata": {},
   "outputs": [
    {
     "name": "stdout",
     "output_type": "stream",
     "text": [
      "\n",
      "The accuracy of the knn classifier for k = 13 is 89.687500%\n"
     ]
    }
   ],
   "source": [
    "knn_optimal = KNeighborsClassifier(n_neighbors=optimal_k8 , algorithm = 'kd_tree', n_jobs = 2)\n",
    "\n",
    "# fitting the model\n",
    "knn_optimal.fit(tf_train_data, y_train)\n",
    "\n",
    "# predict the response\n",
    "pred = knn_optimal.predict(tf_test_data)\n",
    "\n",
    "# evaluate accuracy\n",
    "acc8 = accuracy_score(y_test, pred) * 100\n",
    "print('\\nThe accuracy of the knn classifier for k = %d is %f%%' % (optimal_k8, acc8))"
   ]
  },
  {
   "cell_type": "code",
   "execution_count": 64,
   "metadata": {},
   "outputs": [
    {
     "data": {
      "image/png": "[encoded data removed]",
      "text/plain": [
       "<Figure size 432x288 with 2 Axes>"
      ]
     },
     "metadata": {
      "needs_background": "light"
     },
     "output_type": "display_data"
    }
   ],
   "source": [
    "cm = confusion_matrix(y_test,pred)\n",
    "sns.heatmap(cm, annot=True,fmt='d')\n",
    "plt.title('Confusion Matrix for TF-IDF W2V kd-tree')\n",
    "plt.show()"
   ]
  },
  {
   "cell_type": "code",
   "execution_count": 65,
   "metadata": {},
   "outputs": [
    {
     "name": "stdout",
     "output_type": "stream",
     "text": [
      "+------------+-----------+-----------+----------------+---------------+\n",
      "|   Model    | Algorithm | Optimal K | Train_Error(%) | Test_Error(%) |\n",
      "+------------+-----------+-----------+----------------+---------------+\n",
      "|    BoW     |   Brute   |     13    |     10.92      |     10.05     |\n",
      "|    BoW     |  kd-tree  |     11    |     10.95      |     10.05     |\n",
      "|   TF-IDF   |   Brute   |     7     |     10.21      |      9.56     |\n",
      "|   TF-IDF   |  kd-tree  |     13    |     10.84      |     10.25     |\n",
      "|  AVG W2V   |   Brute   |     13    |      11.0      |     10.21     |\n",
      "|  AVG W2V   |  kd-tree  |     13    |      11.0      |     10.21     |\n",
      "| TF-IDF W2V |   Brute   |     13    |      11.1      |     10.31     |\n",
      "| TF-IDF W2V |  kd-tree  |     13    |      11.1      |     10.31     |\n",
      "+------------+-----------+-----------+----------------+---------------+\n"
     ]
    }
   ],
   "source": [
    "from prettytable import PrettyTable\n",
    "\n",
    "x = PrettyTable()\n",
    "\n",
    "model1 = 'BoW'\n",
    "model2 = 'TF-IDF'\n",
    "model3 = 'AVG W2V'\n",
    "model4 = 'TF-IDF W2V'\n",
    "\n",
    "type1 = 'Brute'\n",
    "type2 = 'kd-tree'\n",
    "\n",
    "x.field_names = [\"Model\",\"Algorithm\",\"Optimal K\",\"Train_Error(%)\",\"Test_Error(%)\"]\n",
    "\n",
    "tr_err1 = np.around(100-tr_acc1, decimals =2)\n",
    "err1 = np.around(100-acc1, decimals = 2)\n",
    "\n",
    "tr_err2 = np.around(100-tr_acc2, decimals =2)\n",
    "err2 = np.around(100-acc2, decimals = 2) \n",
    "\n",
    "tr_err3 = np.around(100-tr_acc3, decimals =2)\n",
    "err3 = np.around(100-acc3, decimals = 2) \n",
    "\n",
    "tr_err4 = np.around(100-tr_acc4, decimals =2)\n",
    "err4 = np.around(100-acc4, decimals = 2) \n",
    "\n",
    "tr_err5 = np.around(100-tr_acc5, decimals =2)\n",
    "err5 = np.around(100-acc5, decimals = 2) \n",
    "\n",
    "tr_err6 = np.around(100-tr_acc6, decimals =2)\n",
    "err6 = np.around(100-acc6, decimals = 2) \n",
    "\n",
    "tr_err7 = np.around(100-tr_acc7, decimals =2)\n",
    "err7 = np.around(100-acc7, decimals = 2) \n",
    "\n",
    "tr_err8 = np.around(100-tr_acc8, decimals =2)\n",
    "err8 = np.around(100-acc8, decimals = 2) \n",
    "\n",
    "\n",
    "\n",
    "\n",
    "x.add_row([model1,type1,optimal_k1,tr_err1,err1])\n",
    "x.add_row([model1,type2,optimal_k2,tr_err2,err2])\n",
    "x.add_row([model2,type1,optimal_k3,tr_err3,err3])\n",
    "x.add_row([model2,type2,optimal_k4,tr_err4,err4])\n",
    "x.add_row([model3,type1,optimal_k5,tr_err5,err5])\n",
    "x.add_row([model3,type2,optimal_k6,tr_err6,err6])\n",
    "x.add_row([model4,type1,optimal_k7,tr_err7,err7])\n",
    "x.add_row([model4,type2,optimal_k8,tr_err8,err8])\n",
    "\n",
    "\n",
    "print(x)"
   ]
  },
  {
   "cell_type": "markdown",
   "metadata": {},
   "source": [
    "## Summary and Observations"
   ]
  },
  {
   "cell_type": "markdown",
   "metadata": {},
   "source": [
    "#### 1.) Considered a sample of 30k datapoints. (Box Running times)\n",
    "#### 2.) Plotted Error plots based on K values\n",
    "#### 3.) Shown Confusion Matrix using sns heatmap, Majorly saw most of the points are classifing as positive.\n",
    "#### 4.) Used PrettyTable to show all the data as a table manner.\n",
    "#### 5.) from the table we can see that TF-IDF on brute force gave less test error compared to other models.\n",
    "#### 6.) Intrestingly noted that, on AVG W2V and TF-IDF W2V on both algorithms gave exactly same results."
   ]
  },
  {
   "cell_type": "code",
   "execution_count": null,
   "metadata": {},
   "outputs": [],
   "source": []
  }
 ],
 "metadata": {
  "kernelspec": {
   "display_name": "Python 3",
   "language": "python",
   "name": "python3"
  },
  "language_info": {
   "codemirror_mode": {
    "name": "ipython",
    "version": 3
   },
   "file_extension": ".py",
   "mimetype": "text/x-python",
   "name": "python",
   "nbconvert_exporter": "python",
   "pygments_lexer": "ipython3",
   "version": "3.7.1"
  }
 },
 "nbformat": 4,
 "nbformat_minor": 2
}
